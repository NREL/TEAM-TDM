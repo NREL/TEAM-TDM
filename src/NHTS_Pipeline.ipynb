{
 "cells": [
  {
   "cell_type": "code",
   "execution_count": 1,
   "metadata": {},
   "outputs": [
    {
     "name": "stderr",
     "output_type": "stream",
     "text": [
      "Using TensorFlow backend.\n",
      "/rufous/occupancy_detection/modules/modules/build/all_of_it/lib/python3.6/site-packages/sklearn/cross_validation.py:41: DeprecationWarning: This module was deprecated in version 0.18 in favor of the model_selection module into which all the refactored classes and functions are moved. Also note that the interface of the new CV iterators are different from that of this module. This module will be removed in 0.20.\n",
      "  \"This module will be removed in 0.20.\", DeprecationWarning)\n"
     ]
    }
   ],
   "source": [
    "from ml_battery import *\n",
    "import ml_battery.nhts_data as nhts_data\n",
    "import sklearn.pipeline\n",
    "import pickle\n",
    "import pandas as pd\n",
    "import numpy as np\n",
    "import sklearn.ensemble\n",
    "import sklearn.svm\n",
    "import sklearn.linear_model\n",
    "import sklearn.cross_validation"
   ]
  },
  {
   "cell_type": "code",
   "execution_count": 2,
   "metadata": {},
   "outputs": [],
   "source": [
    "USE_PRETRAINED=False"
   ]
  },
  {
   "cell_type": "code",
   "execution_count": 3,
   "metadata": {},
   "outputs": [],
   "source": [
    "df = nhts_data.load_nhts.household()\n",
    "data_train, data_test = sklearn.cross_validation.train_test_split(df, test_size=0.2, random_state=0)"
   ]
  },
  {
   "cell_type": "code",
   "execution_count": 4,
   "metadata": {},
   "outputs": [],
   "source": [
    "X_columns = set(df.columns.values.tolist()) - set([\"HHVEHCNT\", \"WTHHFIN\", \"HOUSEID\"])\n",
    "X_columns = sorted(X_columns)\n",
    "\n",
    "y_columns = [\"HHVEHCNT\"]\n",
    "\n",
    "weight_column = \"WTHHFIN\"\n",
    "\n",
    "X_train, y_train, weights_train = data_train[X_columns], data_train[y_columns], data_train[weight_column]\n",
    "X_test, y_test, weights_test = data_test[X_columns], data_test[y_columns], data_test[weight_column]\n",
    "weights_train = np.ones(weights_train.shape)\n",
    "weights_test = np.ones(weights_test.shape)"
   ]
  },
  {
   "cell_type": "code",
   "execution_count": 5,
   "metadata": {},
   "outputs": [
    {
     "name": "stdout",
     "output_type": "stream",
     "text": [
      "Frequency of Bicycle Use for Travel C\n"
     ]
    }
   ],
   "source": [
    "codebook = nhts_data.load_nhts.codebook()[['Name','Label','Type']].dropna().set_index('Name')\n",
    "print(codebook.loc[\"BIKE\"][\"Label\"], codebook.loc[\"BIKE\"][\"Type\"])"
   ]
  },
  {
   "cell_type": "code",
   "execution_count": 6,
   "metadata": {},
   "outputs": [],
   "source": [
    "clf = sklearn.pipeline.Pipeline([\n",
    "    ('data_transformation', CodebookTransformer(codebook, X_possible_values = df)),\n",
    "    ('feature_selection', SelectFromModelPandas(sklearn.ensemble.RandomForestClassifier())),\n",
    "    ('classification', StackedClassifier(\n",
    "        MultiClassifier([\n",
    "            (\"random forest\", sklearn.ensemble.RandomForestClassifier(n_jobs=-1, max_depth=9)),\n",
    "            (\"logistic regression\", sklearn.linear_model.LogisticRegression(C=100000)),\n",
    "            (\"one-hidden mlp, 1000 epochs, optimized hidden\", OneLayerNNClassifier(n_epochs=1000, regularization=0.01, dropout=1, n_hidden=8)),\n",
    "            #(\"linear SVC\", sklearn.svm.LinearSVC(C=100000, max_iter=10000)),\n",
    "            #(\"rbf SVC\", sklearn.svm.SVC(kernel=\"rbf\")),\n",
    "            #(\"linear regression (rounded to nearest int)\", IntegerRegressor(sklearn.linear_model.LinearRegression())),\n",
    "            (\"naive bayes\", MixedNB()),\n",
    "            #(\"one-hidden MLP, 1000 epochs, 20 hidden\", OneLayerNNClassifier(20, 1000, batch_size=300, learning_rate=0.001)),\n",
    "            #(\"one-hidden MLP, 1000 epochs, 1 hidden\", OneLayerNNClassifier(1,1000)),\n",
    "            #(\"one-hidden MLP, 10000 epochs, 1 hidden\", OneLayerNNClassifier(1,10000)),\n",
    "            (\"stratified dummy\", PatchedDummy()),\n",
    "            (\"ordered probit\", OrdinalRegression(\"probit\")),\n",
    "            (\"nested ordinal logit\", NestedClassifier(sklearn.linear_model.LogisticRegression(C=100000), [0,[1,[2,[3,[4,[5,[6,[7,[8,[9,[10,[11,12]]]]]]]]]]]])),\n",
    "        ], parallel=True),\n",
    "        sklearn.linear_model.LogisticRegression(C=100000)\n",
    "    ))\n",
    "])"
   ]
  },
  {
   "cell_type": "code",
   "execution_count": null,
   "metadata": {
    "scrolled": true
   },
   "outputs": [
    {
     "name": "stdout",
     "output_type": "stream",
     "text": [
      "fitting!\n"
     ]
    },
    {
     "name": "stderr",
     "output_type": "stream",
     "text": [
      "/rufous/occupancy_detection/modules/modules/build/all_of_it/lib/python3.6/site-packages/sklearn/preprocessing/label.py:95: DataConversionWarning: A column-vector y was passed when a 1d array was expected. Please change the shape of y to (n_samples, ), for example using ravel().\n",
      "  y = column_or_1d(y, warn=True)\n",
      "/rufous/occupancy_detection/modules/modules/build/all_of_it/lib/python3.6/site-packages/sklearn/preprocessing/label.py:128: DataConversionWarning: A column-vector y was passed when a 1d array was expected. Please change the shape of y to (n_samples, ), for example using ravel().\n",
      "  y = column_or_1d(y, warn=True)\n",
      "/rufous/occupancy_detection/modules/modules/build/all_of_it/lib/python3.6/site-packages/sklearn/feature_selection/from_model.py:169: DataConversionWarning: A column-vector y was passed when a 1d array was expected. Please change the shape of y to (n_samples,), for example using ravel().\n",
      "  self.estimator_.fit(X, y, **fit_params)\n"
     ]
    }
   ],
   "source": [
    "if USE_PRETRAINED:\n",
    "    with open(\"../models/NHTS_pipeline7.p\",\"rb\") as f:\n",
    "        toy_pipeline = pickle.load(f)\n",
    "    clf=toy_pipeline\n",
    "else:\n",
    "    print(\"fitting!\")\n",
    "    clf.fit(X_train, y_train, classification__sample_weight=weights_train)\n",
    "    with open(\"../models/NHTS_pipeline7.p\",\"wb\") as f:\n",
    "        pickle.dump(clf,f)"
   ]
  },
  {
   "cell_type": "code",
   "execution_count": null,
   "metadata": {},
   "outputs": [],
   "source": []
  },
  {
   "cell_type": "code",
   "execution_count": 20,
   "metadata": {},
   "outputs": [
    {
     "name": "stderr",
     "output_type": "stream",
     "text": [
      "/rufous/occupancy_detection/modules/modules/build/all_of_it/lib/python3.6/site-packages/sklearn/preprocessing/label.py:128: DataConversionWarning: A column-vector y was passed when a 1d array was expected. Please change the shape of y to (n_samples, ), for example using ravel().\n",
      "  y = column_or_1d(y, warn=True)\n",
      "/rufous/occupancy_detection/modules/modules/build/all_of_it/lib/python3.6/site-packages/sklearn/linear_model/base.py:340: RuntimeWarning: overflow encountered in exp\n",
      "  np.exp(prob, prob)\n",
      "/rufous/occupancy_detection/modules/modules/build/all_of_it/lib/python3.6/site-packages/sklearn/metrics/classification.py:1135: UndefinedMetricWarning: F-score is ill-defined and being set to 0.0 in labels with no predicted samples.\n",
      "  'precision', 'predicted', average, warn_for)\n",
      "/rufous/occupancy_detection/modules/modules/build/all_of_it/lib/python3.6/site-packages/sklearn/metrics/classification.py:1135: UndefinedMetricWarning: Precision is ill-defined and being set to 0.0 in labels with no predicted samples.\n",
      "  'precision', 'predicted', average, warn_for)\n",
      "/rufous/occupancy_detection/modules/modules/build/all_of_it/lib/python3.6/site-packages/sklearn/utils/validation.py:578: DataConversionWarning: A column-vector y was passed when a 1d array was expected. Please change the shape of y to (n_samples, ), for example using ravel().\n",
      "  y = column_or_1d(y, warn=True)\n"
     ]
    }
   ],
   "source": [
    "(stacked_scores, stacked_cm, stacked_fi), (multi_scores, multi_cm, multi_fi) = clf.score(X_test, y_test, sample_weight=weights_test)"
   ]
  },
  {
   "cell_type": "code",
   "execution_count": null,
   "metadata": {},
   "outputs": [],
   "source": [
    "multi_cm"
   ]
  },
  {
   "cell_type": "code",
   "execution_count": null,
   "metadata": {},
   "outputs": [],
   "source": [
    "stacked_scores"
   ]
  },
  {
   "cell_type": "code",
   "execution_count": null,
   "metadata": {},
   "outputs": [],
   "source": [
    "multi_scores"
   ]
  },
  {
   "cell_type": "code",
   "execution_count": null,
   "metadata": {
    "scrolled": true
   },
   "outputs": [],
   "source": [
    "multi_fi.sort_values(by=\"nested ordinal logit\", ascending=False)"
   ]
  },
  {
   "cell_type": "code",
   "execution_count": null,
   "metadata": {},
   "outputs": [],
   "source": [
    "pd.DataFrame(clf.steps[1][1].estimator_.feature_importances_, index=clf.steps[0][1].transform(X_train).columns).sort_values(by=0, ascending=False)"
   ]
  },
  {
   "cell_type": "code",
   "execution_count": null,
   "metadata": {},
   "outputs": [],
   "source": [
    "multi_scores[\"stacked model\"] = stacked_scores\n",
    "print(multi_scores.round(3).to_latex())"
   ]
  },
  {
   "cell_type": "code",
   "execution_count": null,
   "metadata": {},
   "outputs": [],
   "source": [
    "df.shape"
   ]
  },
  {
   "cell_type": "code",
   "execution_count": null,
   "metadata": {},
   "outputs": [],
   "source": [
    "a = clf.steps[0][1].transform(df[X_columns])"
   ]
  },
  {
   "cell_type": "code",
   "execution_count": null,
   "metadata": {},
   "outputs": [],
   "source": [
    "a.shape"
   ]
  },
  {
   "cell_type": "code",
   "execution_count": null,
   "metadata": {},
   "outputs": [],
   "source": [
    "sklearn.pipeline.Pipeline(clf.steps[:2]).transform(df[X_columns]).shape"
   ]
  },
  {
   "cell_type": "code",
   "execution_count": null,
   "metadata": {},
   "outputs": [],
   "source": [
    "clf.steps[2][1].multiestimator.estimators"
   ]
  },
  {
   "cell_type": "code",
   "execution_count": null,
   "metadata": {},
   "outputs": [],
   "source": []
  }
 ],
 "metadata": {
  "kernelspec": {
   "display_name": "Python 3",
   "language": "python",
   "name": "python3"
  },
  "language_info": {
   "codemirror_mode": {
    "name": "ipython",
    "version": 3
   },
   "file_extension": ".py",
   "mimetype": "text/x-python",
   "name": "python",
   "nbconvert_exporter": "python",
   "pygments_lexer": "ipython3",
   "version": "3.6.6rc1+"
  }
 },
 "nbformat": 4,
 "nbformat_minor": 2
}
