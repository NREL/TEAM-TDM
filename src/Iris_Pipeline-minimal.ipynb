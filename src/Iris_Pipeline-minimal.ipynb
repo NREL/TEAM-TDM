{
 "cells": [
  {
   "cell_type": "code",
   "execution_count": 1,
   "metadata": {
    "scrolled": true
   },
   "outputs": [
    {
     "name": "stderr",
     "output_type": "stream",
     "text": [
      "Using TensorFlow backend.\n",
      "/rufous/occupancy_detection/modules/modules/build/all_of_it/lib/python3.6/site-packages/sklearn/cross_validation.py:41: DeprecationWarning: This module was deprecated in version 0.18 in favor of the model_selection module into which all the refactored classes and functions are moved. Also note that the interface of the new CV iterators are different from that of this module. This module will be removed in 0.20.\n",
      "  \"This module will be removed in 0.20.\", DeprecationWarning)\n"
     ]
    }
   ],
   "source": [
    "from ml_battery import *\n",
    "import sklearn.pipeline\n",
    "import pickle\n",
    "import pandas as pd\n",
    "import numpy as np\n",
    "import sklearn.ensemble\n",
    "import sklearn.svm\n",
    "import sklearn.linear_model\n",
    "import sklearn.cross_validation\n",
    "import matplotlib.pyplot as plt"
   ]
  },
  {
   "cell_type": "code",
   "execution_count": 2,
   "metadata": {},
   "outputs": [],
   "source": [
    "from sklearn.datasets import load_iris\n",
    "data = load_iris()\n",
    "df = pd.DataFrame(np.hstack((data.data,data.target.reshape((-1,1)))), columns=(data.feature_names+[\"target\"]))\n",
    "data_train, data_test = sklearn.cross_validation.train_test_split(df, test_size=0.2, random_state=0)"
   ]
  },
  {
   "cell_type": "code",
   "execution_count": 3,
   "metadata": {},
   "outputs": [],
   "source": [
    "X_train, y_train = data_train.drop(\"target\", axis=1), data_train[[\"target\"]]\n",
    "X_test, y_test = data_test.drop(\"target\", axis=1), data_test[[\"target\"]]\n",
    "weights_train, weights_test = np.ones(X_train.shape[0]), np.ones(X_test.shape[0])"
   ]
  },
  {
   "cell_type": "code",
   "execution_count": 4,
   "metadata": {},
   "outputs": [],
   "source": [
    "codebook = pd.DataFrame(columns=[\"Name\",\"Type\"]).set_index(\"Name\")"
   ]
  },
  {
   "cell_type": "code",
   "execution_count": 5,
   "metadata": {},
   "outputs": [],
   "source": [
    "clf = sklearn.pipeline.Pipeline([\n",
    "    ('data_transformation', CodebookTransformer(codebook, X_possible_values = df)),\n",
    "    ('feature_selection', SelectFromModelPandas(sklearn.ensemble.RandomForestClassifier(n_jobs=-1))),\n",
    "    ('classification', StackedClassifier(\n",
    "        MultiClassifier([\n",
    "            (\"random forest\", HyperparameterOptimizedEstimator(sklearn.ensemble.RandomForestClassifier(n_jobs=-1), max_depth=(2,10))),\n",
    "            (\"logistic regression\", sklearn.linear_model.LogisticRegression(C=100000)),\n",
    "            (\"one-hidden mlp, 1000 epochs, optimized hidden\", HyperparameterOptimizedEstimator(OneLayerNNClassifier(), n_hidden=(1,100))),\n",
    "            (\"linear SVC\", sklearn.svm.LinearSVC(C=100000)),\n",
    "            (\"naive bayes\", MixedNB()),\n",
    "            (\"stratified dummy\", PatchedDummy()),\n",
    "            (\"nested logit\", NestedClassifier(sklearn.linear_model.LogisticRegression(C=100000), (0, (1,2)))),\n",
    "        ], parallel=True),\n",
    "        sklearn.linear_model.LogisticRegression(C=100000))),\n",
    "])"
   ]
  },
  {
   "cell_type": "code",
   "execution_count": null,
   "metadata": {},
   "outputs": [
    {
     "name": "stderr",
     "output_type": "stream",
     "text": [
      "/rufous/occupancy_detection/modules/modules/build/all_of_it/lib/python3.6/site-packages/sklearn/feature_selection/from_model.py:169: DataConversionWarning: A column-vector y was passed when a 1d array was expected. Please change the shape of y to (n_samples,), for example using ravel().\n",
      "  self.estimator_.fit(X, y, **fit_params)\n"
     ]
    }
   ],
   "source": [
    "clf.fit(X_train, y_train, classification__sample_weight=weights_train)\n",
    "with open(\"../models/iris_pipeline_minimal.p\",\"wb\") as f:\n",
    "    pickle.dump(clf,f)"
   ]
  },
  {
   "cell_type": "code",
   "execution_count": null,
   "metadata": {},
   "outputs": [],
   "source": [
    "(stacked_scores, stacked_cm, stacked_fi), (multi_scores, multi_cm, multi_fi) = clf.score(X_train, y_train)\n",
    "multi_scores"
   ]
  }
 ],
 "metadata": {
  "kernelspec": {
   "display_name": "Python 3",
   "language": "python",
   "name": "python3"
  },
  "language_info": {
   "codemirror_mode": {
    "name": "ipython",
    "version": 3
   },
   "file_extension": ".py",
   "mimetype": "text/x-python",
   "name": "python",
   "nbconvert_exporter": "python",
   "pygments_lexer": "ipython3",
   "version": "3.6.6rc1+"
  }
 },
 "nbformat": 4,
 "nbformat_minor": 2
}
